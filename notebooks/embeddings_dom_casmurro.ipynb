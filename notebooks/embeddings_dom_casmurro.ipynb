{
 "cells": [
  {
   "cell_type": "code",
   "execution_count": 1,
   "metadata": {},
   "outputs": [],
   "source": [
    "from langchain_community.document_loaders import PyPDFLoader\n",
    "\n",
    "loader = PyPDFLoader(\"../data/dom_casmurro.pdf\")"
   ]
  },
  {
   "cell_type": "code",
   "execution_count": 2,
   "metadata": {},
   "outputs": [],
   "source": [
    "content = loader.load()"
   ]
  },
  {
   "cell_type": "code",
   "execution_count": 6,
   "metadata": {},
   "outputs": [],
   "source": [
    "all_content_string = \"\\n\".join([x.page_content for x in content])"
   ]
  },
  {
   "cell_type": "code",
   "execution_count": 8,
   "metadata": {},
   "outputs": [],
   "source": [
    "from langchain_text_splitters import RecursiveCharacterTextSplitter"
   ]
  },
  {
   "cell_type": "code",
   "execution_count": 13,
   "metadata": {},
   "outputs": [],
   "source": [
    "text_splitter = RecursiveCharacterTextSplitter(\n",
    "    # Set a really small chunk size, just to show.\n",
    "    chunk_size=1_500,\n",
    "    chunk_overlap=500,\n",
    "    length_function=len,\n",
    "    is_separator_regex=False,\n",
    ")"
   ]
  },
  {
   "cell_type": "code",
   "execution_count": 14,
   "metadata": {},
   "outputs": [],
   "source": [
    "texts = text_splitter.create_documents([all_content_string])"
   ]
  },
  {
   "cell_type": "code",
   "execution_count": 15,
   "metadata": {},
   "outputs": [
    {
     "data": {
      "text/plain": [
       "400"
      ]
     },
     "execution_count": 15,
     "metadata": {},
     "output_type": "execute_result"
    }
   ],
   "source": [
    "len(texts)"
   ]
  },
  {
   "cell_type": "code",
   "execution_count": 2,
   "metadata": {},
   "outputs": [],
   "source": [
    "from langchain_openai import OpenAIEmbeddings\n",
    "from langchain_community.vectorstores import FAISS\n",
    "\n",
    "embeddings = OpenAIEmbeddings(\n",
    "    model=\"text-embedding-3-large\",\n",
    "    dimensions=1536\n",
    ")"
   ]
  },
  {
   "cell_type": "code",
   "execution_count": null,
   "metadata": {},
   "outputs": [],
   "source": [
    "\n",
    "\n",
    "db_dom = FAISS.from_documents(texts, embeddings)"
   ]
  },
  {
   "cell_type": "code",
   "execution_count": 21,
   "metadata": {},
   "outputs": [],
   "source": [
    "db_dom.save_local(\"../vectorstore/dom_casmurro\")"
   ]
  },
  {
   "cell_type": "code",
   "execution_count": 3,
   "metadata": {},
   "outputs": [],
   "source": [
    "embeddings = OpenAIEmbeddings(\n",
    "    model=\"text-embedding-3-large\",\n",
    "    dimensions=1536\n",
    ")\n",
    "\n",
    "vdb = FAISS.load_local(\"../vectorstore/dom_casmurro\", \n",
    "                       embeddings, \n",
    "                       allow_dangerous_deserialization=True)"
   ]
  },
  {
   "cell_type": "code",
   "execution_count": 24,
   "metadata": {},
   "outputs": [],
   "source": [
    "retriever = vdb.as_retriever(search_kwargs={\"k\": 4})"
   ]
  },
  {
   "cell_type": "code",
   "execution_count": 25,
   "metadata": {},
   "outputs": [
    {
     "data": {
      "text/plain": [
       "[Document(metadata={}, page_content='que me pegasse com Deus.\\nCapitu quis que lhe repetisse as respostas todas do agregado, as alte -\\nrações do gesto e até a pirueta, que apenas lhe contara. Pedia o som das \\npalavras. Era minuciosa e atenta; a narração e o diálogo, tudo parecia remoer \\nconsigo. Também se pode dizer que conferia, rotulava e pregava na memória a \\nminha exposição. Esta imagem é porventura melhor que a outra, mas a ótima \\ndelas é nenhuma. Capitu era Capitu, isto é, uma criatura mui particular, mais \\nmulher do que eu era homem. Se ainda o não disse, aí fica. Se disse, fica tam-\\nbém. Há conceitos que se devem incutir na alma do leitor, à força de repetição.\\nDOM CASMURRO\\n• 56 •\\nEra também mais curiosa. As curiosidades de Capitu dão para um capítu-\\nlo. Eram de vária espécie, explicáveis e inexplicáveis, assim úteis como inú -\\nteis, umas graves, outras frívolas; gostava de saber tudo. No colégio, onde, \\ndesde os sete anos, aprendera a ler, escrever e contar, francês, doutrina e \\nobras de agulha, não aprendeu, por exemplo, a fazer renda; por isso mesmo, \\nquis que prima Justina lhe ensinasse. Se não estudou latim com o Padre \\nCabral foi porque o padre, depois de lhe propor gracejando, acabou dizendo \\nque latim não era língua de meninas. Capitu confessou-me um dia que esta \\nrazão acendeu nela o desejo de o saber. Em compensação, quis aprender in-\\nglês com um velho professor amigo do pai e parceiro deste ao solo, mas não \\nfoi adiante. Tio Cosme ensinou-lhe gamão.'),\n",
       " Document(metadata={}, page_content='fora, a animação da rua, os rapazes da minha idade que me fitavam cheios \\nde inveja, as devotas que chegavam às janelas ou entravam nos corredores \\ne se ajoelhavam à nossa passagem, tudo me enchia a alma de lepidez nova.\\nPádua, ao contrário, ia mais humilhado. Apesar de substituído por mim, não \\nacabava de se consolar da tocha, da miserável tocha. E contudo havia outros \\nque também traziam tocha, e apenas mostravam a compostura do ato; não iam \\ngarridos, mas também não iam tristes. Via-se que caminhavam com honra.\\nCAPÍTULO XXXI\\xa0\\xa0  \\nCuriosidades de Capitu\\nCapitu preferia tudo ao seminário. Em vez de ficar abatida com a amea -\\nça da larga separação, se vingasse a ideia da Europa, mostrou-se satisfeita. \\nE quando eu lhe contei o meu sonho imperial:\\n— Não, Bentinho, deixemos o Imperador sossegado, replicou; fiquemos \\npor ora com a promessa de José Dias. Quando é que ele disse que falaria a \\nsua mãe?\\n— Não marcou dia; prometeu que ia ver, que falaria logo que pudesse, e \\nque me pegasse com Deus.\\nCapitu quis que lhe repetisse as respostas todas do agregado, as alte -\\nrações do gesto e até a pirueta, que apenas lhe contara. Pedia o som das \\npalavras. Era minuciosa e atenta; a narração e o diálogo, tudo parecia remoer \\nconsigo. Também se pode dizer que conferia, rotulava e pregava na memória a \\nminha exposição. Esta imagem é porventura melhor que a outra, mas a ótima \\ndelas é nenhuma. Capitu era Capitu, isto é, uma criatura mui particular, mais'),\n",
       " Document(metadata={}, page_content='andavam, desandavam, estacavam, trêmulas e crentes de abarcar o mundo. \\nEsse primeiro palpitar da seiva, essa revelação da consciência a si própria, \\nnunca mais me esqueceu, nem achei que lhe fosse comparável qualquer ou-\\ntra sensação da mesma espécie. Naturalmente por ser minha. Naturalmente \\ntambém por ser a primeira.\\nCAPÍTULO XIII\\xa0\\xa0  \\nCapitu\\nDe repente, ouvi bradar uma voz de dentro da casa ao pé:\\n— Capitu!\\nE no quintal:\\n— Mamãe!\\nE outra vez na casa:\\n— Vem cá!\\nDOM CASMURRO\\n• 30 •\\nNão me pude ter. As pernas desceram-me os três degraus que davam \\npara a chácara, e caminharam para o quintal vizinho. Era costume delas, às \\ntardes, e às manhãs também. Que as pernas também são pessoas, apenas \\ninferiores aos braços, e valem de si mesmas, quando a cabeça não as rege \\npor meio de ideias. As minhas chegaram ao pé do muro. Havia ali uma porta \\nde comunicação mandada rasgar por minha mãe, quando Capitu e eu éramos \\npequenos. A porta não tinha chave nem taramela; abria-se empurrando de \\num lado ou puxando de outro, e fechava-se ao peso de uma pedra pendente \\nde uma corda. Era quase que exclusivamente nossa. Em crianças, fazíamos \\nvisita batendo de um lado e sendo recebidos do outro com muitas mesuras. \\nQuando as bonecas de Capitu adoeciam, o médico era eu. Entrava no quintal \\ndela com um pau debaixo do braço, para imitar o bengalão do Dr. João da \\nCosta; tomava o pulso à doente, e pedia-lhe que mostrasse a língua. “É sur -'),\n",
       " Document(metadata={}, page_content='com o prego, disfarçadamente, apagou os nossos nomes escritos.\\n— Capitu!\\n— Papai!\\n— Não me estragues o reboco do muro.\\nCapitu riscava sobre o riscado, para apagar bem o escrito. Pádua saiu ao \\nquintal, a ver o que era, mas já a filha tinha começado outra coisa, um perfil, \\nque disse ser o retrato dele, e tanto podia ser dele como da mãe; fê-lo rir, era \\no essencial. De resto, ele chegou sem cólera, todo meigo, apesar do gesto \\nduvidoso ou menos que duvidoso em que nos apanhou. Era um homem baixo \\nMACHADO DE ASSIS \\n• 33  •\\ne grosso, pernas e braços curtos, costas abauladas, donde lhe veio a alcunha \\nde Tartaruga, que José Dias lhe pôs. Ninguém lhe chamava assim lá em casa; \\nera só o agregado.\\n— Vocês estavam jogando o siso? perguntou.\\nOlhei para um pé de sabugueiro que ficava perto; Capitu respondeu por \\nambos.\\n— Estávamos, sim, senhor; mas Bentinho ri logo, não aguenta.\\n— Quando eu cheguei à porta, não ria.\\n— Já tinha rido das outras vezes; não pode. Papai quer ver?\\nE séria, fitou em mim os olhos, convidando-me ao jogo. O susto é natural-\\nmente sério; eu estava ainda sob a ação do que trouxe a entrada de Pádua, e \\nnão fui capaz de rir, por mais que devesse fazê-lo, para legitimar a resposta de \\nCapitu. Esta, cansada de esperar, desviou o rosto, dizendo que eu não ria da-\\nquela vez por estar ao pé do pai. E nem assim ri. Há coisas que só se aprendem \\ntarde; é mister nascer com elas para fazê-las cedo. E melhor é naturalmente')]"
      ]
     },
     "execution_count": 25,
     "metadata": {},
     "output_type": "execute_result"
    }
   ],
   "source": [
    "retriever.invoke(\"Capitu\")"
   ]
  },
  {
   "cell_type": "code",
   "execution_count": null,
   "metadata": {},
   "outputs": [],
   "source": []
  }
 ],
 "metadata": {
  "kernelspec": {
   "display_name": "env",
   "language": "python",
   "name": "python3"
  },
  "language_info": {
   "codemirror_mode": {
    "name": "ipython",
    "version": 3
   },
   "file_extension": ".py",
   "mimetype": "text/x-python",
   "name": "python",
   "nbconvert_exporter": "python",
   "pygments_lexer": "ipython3",
   "version": "3.10.11"
  }
 },
 "nbformat": 4,
 "nbformat_minor": 2
}
